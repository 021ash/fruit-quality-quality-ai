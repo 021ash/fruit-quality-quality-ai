{
 "cells": [
  {
   "cell_type": "code",
   "execution_count": null,
   "id": "e026fb65",
   "metadata": {
    "vscode": {
     "languageId": "plaintext"
    }
   },
   "outputs": [],
   "source": [
    "!pip install ultralytics"
   ]
  },
  {
   "cell_type": "code",
   "execution_count": null,
   "id": "1255a127",
   "metadata": {
    "vscode": {
     "languageId": "plaintext"
    }
   },
   "outputs": [],
   "source": [
    "from ultralytics import YOLO\n",
    "import cv2\n",
    "import matplotlib.pyplot as plt\n",
    "import os"
   ]
  },
  {
   "cell_type": "code",
   "execution_count": null,
   "id": "884e2f10",
   "metadata": {
    "vscode": {
     "languageId": "plaintext"
    }
   },
   "outputs": [],
   "source": [
    "#when working on google colab\n",
    "from google.colab import drive\n",
    "drive.mount('/content/drive')"
   ]
  },
  {
   "cell_type": "code",
   "execution_count": null,
   "id": "2189a4f1",
   "metadata": {
    "vscode": {
     "languageId": "plaintext"
    }
   },
   "outputs": [],
   "source": [
    "# Load a YOLOv8 model (smallest to fastest for training)\n",
    "model = YOLO('yolov8n.pt')  # You can also use yolov8s.pt or yolov8m.pt for better accuracy\n",
    "\n",
    "# Train the model\n",
    "model.train(\n",
    "    data='lemon-dataset/data.yaml',  # Path to your dataset config\n",
    "    epochs=50,                        # Number of training epochs\n",
    "    imgsz=640,                        # Image size (square)\n",
    "    batch=16,                         # Adjust based on GPU memory\n",
    "    name='lemon-sort-v1'             # Output folder name in runs/\n",
    ")\n",
    "\n",
    "# Optional: Evaluate after training\n",
    "model.val()\n",
    "\n",
    "# Optional: Export to ONNX, TensorRT, CoreML, etc.\n",
    "# model.export(format=\"onnx\")\n"
   ]
  }
 ],
 "metadata": {
  "language_info": {
   "name": "python"
  }
 },
 "nbformat": 4,
 "nbformat_minor": 5
}

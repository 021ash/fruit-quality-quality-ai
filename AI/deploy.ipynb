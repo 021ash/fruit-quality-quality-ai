{
 "cells": [
  {
   "cell_type": "code",
   "execution_count": null,
   "id": "1ed956e5",
   "metadata": {
    "vscode": {
     "languageId": "plaintext"
    }
   },
   "outputs": [],
   "source": [
    "import cv2\n",
    "import time\n",
    "import serial\n",
    "from ultralytics import YOLO"
   ]
  },
  {
   "cell_type": "code",
   "execution_count": null,
   "id": "d30c1d23",
   "metadata": {
    "vscode": {
     "languageId": "plaintext"
    }
   },
   "outputs": [],
   "source": [
    "# Load the trained YOLOv8 model\n",
    "model = YOLO(\"model/best.pt\")  # Replace with your actual path\n"
   ]
  },
  {
   "cell_type": "code",
   "execution_count": null,
   "id": "f7a42647",
   "metadata": {
    "vscode": {
     "languageId": "plaintext"
    }
   },
   "outputs": [],
   "source": [
    "# Set up serial connection to ESP32\n",
    "try:\n",
    "    esp32 = serial.Serial(port='COM6', baudrate=115200, timeout=1)  # Change COM port if needed\n",
    "    time.sleep(2)\n",
    "    print(\"✅ Connected to ESP32\")\n",
    "\n",
    "    esp32.write(\"START_CONVEYOR\\n\".encode())\n",
    "    print(\"🛠️ Conveyor started\")\n",
    "\n",
    "except serial.SerialException:\n",
    "    esp32 = None\n",
    "    print(\"❌ ESP32 not connected. Detection will still run.\")\n",
    "\n",
    "# Start webcam\n",
    "cap = cv2.VideoCapture(0)\n",
    "time.sleep(2)\n",
    "\n",
    "last_sent = \"\"\n",
    "\n",
    "while cap.isOpened():\n",
    "    ret, frame = cap.read()\n",
    "    if not ret:\n",
    "        break\n",
    "\n",
    "    # Run YOLO detection\n",
    "    results = model(frame)[0]\n",
    "\n",
    "    # Check for detections\n",
    "    classes_detected = [model.names[int(cls)] for cls in results.boxes.cls]\n",
    "\n",
    "    # Determine what to send\n",
    "    if \"bad\" in classes_detected:\n",
    "        signal = \"BAD\\n\"\n",
    "    elif \"good\" in classes_detected:\n",
    "        signal = \"GOOD\\n\"\n",
    "    else:\n",
    "        signal = \"\"\n",
    "\n",
    "    # Send to ESP32 only if changed\n",
    "    if signal and signal != last_sent and esp32:\n",
    "        esp32.write(signal.encode())\n",
    "        print(f\"📤 Sent to ESP32: {signal.strip()}\")\n",
    "        last_sent = signal\n",
    "\n",
    "    # Show result (optional)\n",
    "    annotated_frame = results.plot()\n",
    "    cv2.imshow(\"Lemon Detection\", annotated_frame)\n",
    "\n",
    "    if cv2.waitKey(1) & 0xFF == ord('q'):\n",
    "        break\n",
    "\n",
    "# Cleanup\n",
    "cap.release()\n",
    "cv2.destroyAllWindows()\n",
    "if esp32:\n",
    "    esp32.close()"
   ]
  }
 ],
 "metadata": {
  "language_info": {
   "name": "python"
  }
 },
 "nbformat": 4,
 "nbformat_minor": 5
}
